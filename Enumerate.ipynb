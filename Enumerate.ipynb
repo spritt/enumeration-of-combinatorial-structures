{
 "cells": [
  {
   "cell_type": "code",
   "execution_count": 3,
   "metadata": {
    "collapsed": true
   },
   "outputs": [],
   "source": [
    "import sys\n",
    "import numpy"
   ]
  },
  {
   "cell_type": "code",
   "execution_count": 4,
   "metadata": {
    "collapsed": false
   },
   "outputs": [
    {
     "name": "stdout",
     "output_type": "stream",
     "text": [
      "0\n",
      "1\n",
      "1\n",
      "2\n",
      "5\n",
      "14\n",
      "42\n",
      "132\n",
      "429\n",
      "1430\n",
      "4862\n",
      "16796\n",
      "58786\n",
      "208012\n",
      "742900\n",
      "2674440\n",
      "9694845\n",
      "35357670\n",
      "129644790\n",
      "477638700\n"
     ]
    }
   ],
   "source": [
    "# enumerate binary trees of size n\n",
    "# the standard form equations are B = U + V, U = z, V = B * B\n",
    "# intermediate values are tabulated by a dict k -> (b_k, u_k, v_k)\n",
    "\n",
    "idxB = 0\n",
    "idxU = 1\n",
    "idxV = 2\n",
    "\n",
    "def tabulate(k, table):\n",
    "    v_k = 0\n",
    "    if k != 0:\n",
    "        for i in range(1,k):\n",
    "            v_k += table[i][idxB] * table[k-i][idxB]\n",
    "    u_k = 1 if k == 1 else 0\n",
    "    b_k = u_k + v_k\n",
    "    table[k] = (b_k, u_k, v_k)\n",
    "    return table\n",
    "    \n",
    "def BinaryTree(n):\n",
    "    t = {}\n",
    "    for k in range(n+1):\n",
    "        t = tabulate(k, t)\n",
    "    print t[n][idxB]\n",
    "    return\n",
    "\n",
    "for k in range(0,20):\n",
    "    BinaryTree(k)"
   ]
  },
  {
   "cell_type": "code",
   "execution_count": 48,
   "metadata": {
    "collapsed": false
   },
   "outputs": [
    {
     "name": "stdout",
     "output_type": "stream",
     "text": [
      "0\n",
      "1\n",
      "1\n",
      "2\n",
      "5\n",
      "14\n",
      "42\n",
      "132\n",
      "429\n",
      "1430\n",
      "4862\n",
      "16796\n",
      "58786\n",
      "208012\n",
      "742900\n",
      "2674440\n",
      "9694845\n",
      "35357670\n",
      "129644790\n",
      "477638700\n"
     ]
    }
   ],
   "source": [
    "# enumerate combinatorial structures from standard form\n",
    "# supports union, cartesian product and terminal rules\n",
    "# intermediate values are tabulated by a dict k -> (dict r -> r_k)\n",
    "\n",
    "class Union:\n",
    "    def __init__(self, a, b, c): # a = b + c\n",
    "        self.Value = a\n",
    "        self.SubRule1 = b\n",
    "        self.SubRule2 = c\n",
    "\n",
    "class Product:\n",
    "    def __init__(self, a, b, c): # a = b * c\n",
    "        self.Value = a\n",
    "        self.SubRule1 = b\n",
    "        self.SubRule2 = c\n",
    "\n",
    "class Terminal:\n",
    "    def __init__(self, a, n): # a = z where |z| = n\n",
    "        self.Value = a\n",
    "        self.Magnitude = n\n",
    "\n",
    "# Here's a good question: is it true that for any rule U, if k = 0 then u_k = 0?\n",
    "# This is an assumption we are currently making to evaluate products\n",
    "\n",
    "def evaluateRule(rule, k, table):\n",
    "    if k not in table:\n",
    "        table[k] = {}\n",
    "    if k == 0:\n",
    "        table[k][rule.Value] = 0\n",
    "    elif isinstance(rule, Union):\n",
    "        table[k][rule.Value] = table[k][rule.SubRule1] + table[k][rule.SubRule2]\n",
    "    elif isinstance(rule, Product):\n",
    "        table[k][rule.Value] = 0\n",
    "        for i in range(1,k):\n",
    "            table[k][rule.Value] += table[i][rule.SubRule1] * table[k-i][rule.SubRule2]\n",
    "    elif isinstance(rule, Terminal):\n",
    "        table[k][rule.Value] = 1 if rule.Magnitude == k else 0\n",
    "    else: raise Exception('Unsupported rule')\n",
    "    return table\n",
    "\n",
    "# compute the valuations of a list of rules\n",
    "# implementation of algorithm on page 28, section 1.4\n",
    "def computeRuleValuations(rules):\n",
    "    val = {}\n",
    "    for r in rules:\n",
    "        if isinstance(r, Terminal):\n",
    "            val[r.Value] = r.Magnitude\n",
    "        else:\n",
    "            val[r.Value] = sys.maxint\n",
    "    return valuate(val, rules)\n",
    "\n",
    "def sortRulesByValuation(rules):\n",
    "    d = computeRuleValuations(rules).items()\n",
    "    d_sorted = sorted(d, key=lambda x:x[1], reverse=True)\n",
    "    r_sorted = []\n",
    "    for (k,v) in d_sorted:\n",
    "        for r in rules:\n",
    "            if r.Value == k:\n",
    "                if isinstance(r, Terminal):\n",
    "                    r_sorted = [r] + r_sorted\n",
    "                else:\n",
    "                    r_sorted.append(r)\n",
    "    return r_sorted\n",
    "    \n",
    "# helper for computeRuleValuations()\n",
    "def valuate(v, rules):\n",
    "    done = True\n",
    "    for r in rules:\n",
    "        prev = v[r.Value]\n",
    "        if isinstance(r, Terminal):\n",
    "            continue\n",
    "        elif isinstance(r, Union):\n",
    "            v[r.Value] = min(v[r.SubRule1], v[r.SubRule2])\n",
    "        elif isinstance(r, Product):\n",
    "            v[r.Value] = v[r.SubRule1] + v[r.SubRule2]\n",
    "        else: raise Exception('Unsupported rule')\n",
    "        if v[r.Value] != prev: done = False\n",
    "    if done: return v\n",
    "    else: return valuate(v, rules)\n",
    "\n",
    "# rules should be sorted in order of increasing minimality\n",
    "def EnumerateFromStandardForm(rules, n):\n",
    "    t = {}\n",
    "    for k in range(n+1):\n",
    "        for r in rules:\n",
    "            t = evaluateRule(r, k, t)\n",
    "    return t\n",
    "\n",
    "# test on a binary tree\n",
    "def BTree(n):\n",
    "    rules = [Union('B', 'U', 'V'), Product('V', 'B', 'B'), Terminal('U', 1)]\n",
    "    tab = EnumerateFromStandardForm(sortRulesByValuation(rules), n)\n",
    "    print tab[n]['B']\n",
    "\n",
    "# runable code goes here\n",
    "for i in range(20):\n",
    "    BTree(i)"
   ]
  },
  {
   "cell_type": "code",
   "execution_count": 47,
   "metadata": {
    "collapsed": false
   },
   "outputs": [
    {
     "name": "stdout",
     "output_type": "stream",
     "text": [
      "U\n",
      "V\n",
      "B\n"
     ]
    }
   ],
   "source": [
    "rules = [Terminal('U', 1), Union('B', 'U', 'V'), Product('V', 'B', 'B')]\n",
    "rules_sorted = sortRulesByValuation(rules)\n",
    "for r in rules_sorted:\n",
    "    print r.Value"
   ]
  }
 ],
 "metadata": {
  "kernelspec": {
   "display_name": "Python 2",
   "language": "python",
   "name": "python2"
  },
  "language_info": {
   "codemirror_mode": {
    "name": "ipython",
    "version": 2
   },
   "file_extension": ".py",
   "mimetype": "text/x-python",
   "name": "python",
   "nbconvert_exporter": "python",
   "pygments_lexer": "ipython2",
   "version": "2.7.11"
  }
 },
 "nbformat": 4,
 "nbformat_minor": 0
}
